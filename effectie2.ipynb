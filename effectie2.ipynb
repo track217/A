{
 "cells": [
  {
   "cell_type": "markdown",
   "metadata": {},
   "source": [
    "# 第2章 函数"
   ]
  },
  {
   "cell_type": "markdown",
   "metadata": {},
   "source": [
    "## 第14条 尽量用异常来表示特殊情况，而不要返回None"
   ]
  },
  {
   "cell_type": "markdown",
   "metadata": {},
   "source": [
    "### 要点\n",
    "#### 1.用None这个返回值来表示特殊意义的函数，很容易使调用者犯错，因为None和0及空字符串之类的值，在条件表达式里都会评估为False\n",
    "#### 2.函数在遇到特殊情况时，应该抛出异常，而不要返回None。调用者看到该函数的文档中所描述的异常之后，应该就会编写相应的代码来处理它们了"
   ]
  },
  {
   "cell_type": "markdown",
   "metadata": {},
   "source": [
    "例如，编写辅助函数，计算两数相除的商"
   ]
  },
  {
   "cell_type": "code",
   "execution_count": 1,
   "metadata": {
    "collapsed": true
   },
   "outputs": [],
   "source": [
    "def divide(a, b):\n",
    "    try:\n",
    "        return a/b\n",
    "    except ZeroDivisionError as e:\n",
    "        raise ValueError('Invalid inputs') from e"
   ]
  },
  {
   "cell_type": "code",
   "execution_count": 4,
   "metadata": {
    "collapsed": false
   },
   "outputs": [
    {
     "name": "stdout",
     "output_type": "stream",
     "text": [
      "Results is 2.5\n"
     ]
    }
   ],
   "source": [
    "x, y = 5, 2\n",
    "try:\n",
    "    result = divide(x, y)\n",
    "except ValueError:\n",
    "    print('Invalid inputs')\n",
    "else:\n",
    "    print('Results is %.1f' % result)"
   ]
  },
  {
   "cell_type": "markdown",
   "metadata": {},
   "source": [
    "## 第15条 了解如何在闭包里使用外围作用域中的变量"
   ]
  },
  {
   "cell_type": "markdown",
   "metadata": {},
   "source": [
    "### 要点\n",
    "#### 1.对于定义在某作用域内的闭包来说，它可以引用这些作用域中的变量\n",
    "#### 2.使用默认方式对闭包内的变量赋值，不会影响外围作用域中的同名变量\n",
    "#### 3.在Python3中，程序可以在闭包内用nonlocal语句来修饰某个名称，使该闭包能够修改外围作用域中的同名变量\n",
    "#### 4.除了那种比较简单的函数，尽量不要用nonlocal语句"
   ]
  },
  {
   "cell_type": "markdown",
   "metadata": {},
   "source": [
    "假如有一份列表，其中的元素都是数字，现在要对其排序，但排序时，要把出现在某个群组内的数字，放在群组外的那些数字之前。还应该返回一个值，用来表示用户界面里是否出现了优先级较高的元件。"
   ]
  },
  {
   "cell_type": "code",
   "execution_count": 5,
   "metadata": {
    "collapsed": false
   },
   "outputs": [
    {
     "name": "stdout",
     "output_type": "stream",
     "text": [
      "True\n",
      "[2, 3, 5, 7, 1, 4, 6, 8]\n"
     ]
    }
   ],
   "source": [
    "def sort_priority(number, group):\n",
    "    found = False\n",
    "    def helper(x):\n",
    "        nonlocal found\n",
    "        if x in group:\n",
    "            found = True\n",
    "            return (0, x)\n",
    "        return(1, x)\n",
    "    number.sort(key=helper)\n",
    "    return found\n",
    "numbers = [8, 3, 1, 2, 5, 4, 7, 6]\n",
    "group = {2, 3, 5, 7}\n",
    "is_found = sort_priority(numbers, group)\n",
    "print(is_found)\n",
    "print(numbers)"
   ]
  },
  {
   "cell_type": "markdown",
   "metadata": {},
   "source": [
    "## 第16条 考虑用生成器来改写直接返回列表的函数"
   ]
  },
  {
   "cell_type": "markdown",
   "metadata": {},
   "source": [
    "### 要点\n",
    "#### 1.使用生成器比把收集到的结果放入列表里返回给调用者更加清晰\n",
    "#### 2.由生成器函数所返回的那个迭代器，可以把生成器函数体中，传给yield表达式的那些值，逐次产生出来\n",
    "#### 3.无论输入量多大，生成器都能产生一系列输出，因为这些输入量和输出量，都不会影响它在执行时所耗的内存"
   ]
  },
  {
   "cell_type": "markdown",
   "metadata": {},
   "source": [
    "假设我们要查出字符串中每个词的首字母,在整个字符串里的位置，把结果存在一个列表里。有两个缺点，一个是代码拥挤，重要的代码只有一半；第二个是在返回前，要先把所有结果都存在列表里面，如果输入量非常大，可能耗尽内存而崩溃"
   ]
  },
  {
   "cell_type": "code",
   "execution_count": 1,
   "metadata": {
    "collapsed": true
   },
   "outputs": [],
   "source": [
    "def index_words(text):\n",
    "    result = []\n",
    "    if text:\n",
    "        result.append(0)\n",
    "    for index, letter in enumerate(text):\n",
    "        if letter == ' ':\n",
    "            result.append(index+1)\n",
    "    return result"
   ]
  },
  {
   "cell_type": "code",
   "execution_count": 2,
   "metadata": {
    "collapsed": false
   },
   "outputs": [
    {
     "name": "stdout",
     "output_type": "stream",
     "text": [
      "[0, 5, 11]\n"
     ]
    }
   ],
   "source": [
    "address = 'Four score and seven years ago.'\n",
    "result = index_words(address)\n",
    "print(result[:3])"
   ]
  },
  {
   "cell_type": "markdown",
   "metadata": {},
   "source": [
    "下面的这个生成器函数，会产生和刚才那个函数相同的效果，且更清晰。且用生成器改写的版本，可以应对任意长度的输入数据。"
   ]
  },
  {
   "cell_type": "code",
   "execution_count": 4,
   "metadata": {
    "collapsed": false
   },
   "outputs": [
    {
     "name": "stdout",
     "output_type": "stream",
     "text": [
      "[0, 5, 11, 15, 21, 27]\n"
     ]
    }
   ],
   "source": [
    "def index_words_iter(text):\n",
    "    if text:\n",
    "        yield 0\n",
    "    for index, letter in enumerate(text):\n",
    "        if letter == ' ':\n",
    "            yield index+1\n",
    "result = list(index_words_iter(address))\n",
    "print(result)"
   ]
  },
  {
   "cell_type": "markdown",
   "metadata": {},
   "source": [
    "## 第17条 在参数上面迭代时，要多加小心\n",
    "### 要点\n",
    "#### 1.函数在输入的参数上面多次迭代时要当心：如果参数是迭代器，那么可能会导致奇怪的行为并错失某些值\n",
    "#### 2.Python的迭代器协议，描述了容器和迭代器应该如何与iter和next内置函数、for循环及相关表达式相互配合\n",
    "#### 3.把__iter__方法实现为生成器，即可定义自己的容器类型\n",
    "#### 4.想判断某个值是迭代器还是容器，可以拿该值为参数，两次调用iter函数，若结果相同，则是迭代器，调用内置的next函数，即可令该迭代器前进一步"
   ]
  },
  {
   "cell_type": "markdown",
   "metadata": {},
   "source": [
    "## 第18条 用数量可变的位置参数减少视觉杂讯\n",
    "### 要点\n",
    "#### 1.在def语句中使用*args，即可令函数接受数量可变的位置参数\n",
    "#### 2.调用函数时，可以采用*操作符，把序列中的元素当成位置参数，传给该函数\n",
    "#### 3.对生成器使用*操作符，可能导致程序耗尽内存并奔溃\n",
    "#### 4.在已经接受*args参数的函数上面继续添加位置参数，可能会产生难以排查的bug"
   ]
  },
  {
   "cell_type": "markdown",
   "metadata": {},
   "source": [
    "定义Log函数，把某些调试信息打印出来"
   ]
  },
  {
   "cell_type": "code",
   "execution_count": 5,
   "metadata": {
    "collapsed": false
   },
   "outputs": [
    {
     "name": "stdout",
     "output_type": "stream",
     "text": [
      "My numbers are: 1, 2\n",
      "Hi there\n"
     ]
    }
   ],
   "source": [
    "def log(message, *values):\n",
    "    if not values:\n",
    "        print(message)\n",
    "    else:\n",
    "        value_str = ', '.join(str(x) for x in values)\n",
    "        print('%s: %s' % (message, value_str))\n",
    "log('My numbers are', 1, 2)\n",
    "log('Hi there')"
   ]
  },
  {
   "cell_type": "markdown",
   "metadata": {},
   "source": [
    "可以给列表前面加上*操作符，这样Python会把这个列表里的元素视为位置参数"
   ]
  },
  {
   "cell_type": "code",
   "execution_count": 6,
   "metadata": {
    "collapsed": false
   },
   "outputs": [
    {
     "name": "stdout",
     "output_type": "stream",
     "text": [
      "Favorite colors: 7, 33, 99\n"
     ]
    }
   ],
   "source": [
    "favorites = [7, 33, 99]\n",
    "log('Favorite colors', *favorites)"
   ]
  },
  {
   "cell_type": "markdown",
   "metadata": {},
   "source": [
    "## 第19条 用关键字参数来表达可选的行为\n",
    "### 要点\n",
    "#### 1.函数参数可以按位置或关键字来指定\n",
    "#### 2.只使用位置参数来调用函数，可能会导致这些参数值的含义不够明确，而关键字参数则能够阐明每个参数的意图\n",
    "#### 3.给函数添加新的行为时，可以使用带默认值的关键字参数，以便与原有的函数调用代码保持兼容\n",
    "#### 4.可选的关键字参数，总是应该以关键字形式来指定，而不应该以位置参数的形式来指定"
   ]
  },
  {
   "cell_type": "markdown",
   "metadata": {},
   "source": [
    "## 第20条 用None和文档字符串来描述具有动态默认值的参数\n",
    "### 要点\n",
    "#### 1.参数的默认值，只会在程序加载模块并读到本函数的定义时评估一次。对于{}或[]等动态的值，这可能会导致奇怪的行为\n",
    "#### 2.对于以动态值作为实际默认值的关键字参数来说，应该把形式上的默认值写为None，并在函数的文档字符串里面描述该默认值所对应的实际行为"
   ]
  },
  {
   "cell_type": "markdown",
   "metadata": {},
   "source": [
    "例如，在打印日志消息的时候，要把相关事件的记录时间也标注在这条信息中。要想正确实现动态默认值，习惯上是把默认值设为None，\n",
    "并在文档字符串里面把None所对应的实际行为描述出来。编写函数代码时，如果发现该参数的值是None，那就将其设为实际的默认值。\n",
    "下面是正确的写法："
   ]
  },
  {
   "cell_type": "code",
   "execution_count": 5,
   "metadata": {
    "collapsed": false
   },
   "outputs": [
    {
     "name": "stdout",
     "output_type": "stream",
     "text": [
      "2017-07-09 22:33:24.710984: Hi there!\n",
      "2017-07-09 22:33:24.811555: Hi again!\n"
     ]
    }
   ],
   "source": [
    "from time import sleep\n",
    "from datetime import datetime\n",
    "\n",
    "def log(message, when=None): #如果写when=datetime.now()，是错误的\n",
    "    '''Log a message with a timestamp.\n",
    "    \n",
    "    Args:\n",
    "        message: Message to print\n",
    "        when: datetime of when the message occurred.\n",
    "            Defaults to the present time.\n",
    "    '''\n",
    "    when = datetime.now() if when is None else when\n",
    "    print('%s: %s' % (when, message))\n",
    "log('Hi there!')\n",
    "sleep(0.1)\n",
    "log('Hi again!')"
   ]
  },
  {
   "cell_type": "markdown",
   "metadata": {},
   "source": [
    "## 第21条 用只能以关键字形式指定的参数来确保代码清晰\n",
    "### 要点\n",
    "#### 1.关键字参数能够使函数调用的意图更加明确\n",
    "#### 2.对于各参数之间很容易混淆的函数，可以声明只能以关键字形式指定的参数，以确保调用者必须通过关键字来指定它们，对于接受多个Boolean标志的函数，更应该这样做\n",
    "#### 3.在编写函数时，Python3有明确的语法来定义这种只能以关键字形式指定的参数\n",
    "#### 4.Python2的函数可以接受**kwargs参数，并手工抛出TypeError异常，以便模拟只能以关键字形式来指定的参数"
   ]
  },
  {
   "cell_type": "markdown",
   "metadata": {},
   "source": [
    "参数列表里的*号，标志着位置参数就此终结，之后的那些参数，都只能以关键字形式来指定"
   ]
  },
  {
   "cell_type": "code",
   "execution_count": 6,
   "metadata": {
    "collapsed": true
   },
   "outputs": [],
   "source": [
    "def safe_division(number, divisor, *, ignore_overflow=False, ignore_zero_division=False):\n",
    "    try:\n",
    "        return number / divisor\n",
    "    except OverflowError:\n",
    "        if ignore_overflow:\n",
    "            return 0\n",
    "        else:\n",
    "            raise\n",
    "    except ZeroDivisionError:\n",
    "        if ignore_zero_division:\n",
    "            return float('inf')\n",
    "        else:\n",
    "            raise"
   ]
  },
  {
   "cell_type": "code",
   "execution_count": 7,
   "metadata": {
    "collapsed": false
   },
   "outputs": [
    {
     "data": {
      "text/plain": [
       "inf"
      ]
     },
     "execution_count": 7,
     "metadata": {},
     "output_type": "execute_result"
    }
   ],
   "source": [
    "safe_division(1, 0, ignore_zero_division=True)"
   ]
  },
  {
   "cell_type": "code",
   "execution_count": 8,
   "metadata": {
    "collapsed": true
   },
   "outputs": [],
   "source": [
    "try:\n",
    "    safe_division(1, 0)\n",
    "except ZeroDivisionError:\n",
    "    pass"
   ]
  }
 ],
 "metadata": {
  "kernelspec": {
   "display_name": "Python [Root]",
   "language": "python",
   "name": "Python [Root]"
  },
  "language_info": {
   "codemirror_mode": {
    "name": "ipython",
    "version": 3
   },
   "file_extension": ".py",
   "mimetype": "text/x-python",
   "name": "python",
   "nbconvert_exporter": "python",
   "pygments_lexer": "ipython3",
   "version": "3.5.2"
  }
 },
 "nbformat": 4,
 "nbformat_minor": 0
}
